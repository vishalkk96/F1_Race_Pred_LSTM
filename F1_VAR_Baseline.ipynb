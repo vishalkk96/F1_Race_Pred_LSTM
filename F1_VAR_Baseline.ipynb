{
 "cells": [
  {
   "cell_type": "code",
   "execution_count": 1,
   "metadata": {},
   "outputs": [],
   "source": [
    "import numpy as np\n",
    "import pandas as pd\n",
    "\n",
    "from datetime import timedelta\n",
    "import matplotlib.pyplot as plt\n",
    "import os\n",
    "\n",
    "from Models import VAR_Funcs as vrf\n",
    "import warnings\n",
    "warnings.filterwarnings('ignore')\n",
    "pd.set_option('display.max_columns', None)"
   ]
  },
  {
   "cell_type": "code",
   "execution_count": 2,
   "metadata": {},
   "outputs": [],
   "source": [
    "vw_race = 'United States Grand Prix'   # The race to be viewed\n",
    "dsp_drv = 'LEC' #Error Metrics for an arbitrarily chosen driver"
   ]
  },
  {
   "cell_type": "code",
   "execution_count": 3,
   "metadata": {},
   "outputs": [],
   "source": [
    "data_df = pd.read_csv('Data/F1_Sector_Dataset.csv')\n",
    "\n",
    "df = vrf.read_data(data_df)\n",
    "\n",
    "# Race Speed/ Qual Speed\n",
    "\n",
    "df['Sec1_Norm'] = df['Race_Sec1_Spd']/df['Qual_Sec1_Spd']\n",
    "df['Sec2_Norm'] = df['Race_Sec2_Spd']/df['Qual_Sec2_Spd']\n",
    "df['Sec3_Norm'] = df['Race_Sec3_Spd']/df['Qual_Sec3_Spd']\n",
    "\n",
    "# First difference for Time Series Forecasting\n",
    "\n",
    "df['Sec1_Diff'] = df['Sec1_Norm'].diff()   \n",
    "df['Sec2_Diff'] = df['Sec2_Norm'].diff()\n",
    "df['Sec3_Diff'] = df['Sec3_Norm'].diff()"
   ]
  },
  {
   "cell_type": "code",
   "execution_count": 4,
   "metadata": {},
   "outputs": [
    {
     "name": "stdout",
     "output_type": "stream",
     "text": [
      "Out of  5601  time series  5001 time series are stationary\n"
     ]
    }
   ],
   "source": [
    "res_df = vrf.adf_data_eval(df)\n",
    "\n",
    "stt_tser = len(res_df.loc[res_df['p_value'] < 0.05])\n",
    "tot_tser = len(res_df)\n",
    "\n",
    "print (\"Out of \",tot_tser,\" time series \",stt_tser,\"time series are stationary\")"
   ]
  },
  {
   "cell_type": "code",
   "execution_count": 5,
   "metadata": {},
   "outputs": [
    {
     "name": "stdout",
     "output_type": "stream",
     "text": [
      "Only the laps where all 3 sectors are stationary are used going forward\n",
      "81270  laps remain out of  109837  laps\n"
     ]
    }
   ],
   "source": [
    "stn_df = res_df.loc[res_df['p_value'] < 0.05].groupby(['Date', 'Race', 'Driver']).agg({'Column' : 'nunique'}).reset_index()\n",
    "stn_df = stn_df.loc[stn_df['Column'] == 3].reset_index(drop = True)\n",
    "\n",
    "old_len = len(df)\n",
    "df = pd.merge(df, stn_df[['Date', 'Race', 'Driver']], how = 'inner')\n",
    "new_len = len(df)\n",
    "\n",
    "print(\"Only the laps where all 3 sectors are stationary are used going forward\")\n",
    "print(new_len, \" laps remain out of \", old_len, \" laps\")"
   ]
  },
  {
   "cell_type": "code",
   "execution_count": 6,
   "metadata": {},
   "outputs": [
    {
     "name": "stdout",
     "output_type": "stream",
     "text": [
      "Lag  1  has the highest PACF\n"
     ]
    },
    {
     "data": {
      "text/html": [
       "<div>\n",
       "<style scoped>\n",
       "    .dataframe tbody tr th:only-of-type {\n",
       "        vertical-align: middle;\n",
       "    }\n",
       "\n",
       "    .dataframe tbody tr th {\n",
       "        vertical-align: top;\n",
       "    }\n",
       "\n",
       "    .dataframe thead th {\n",
       "        text-align: right;\n",
       "    }\n",
       "</style>\n",
       "<table border=\"1\" class=\"dataframe\">\n",
       "  <thead>\n",
       "    <tr style=\"text-align: right;\">\n",
       "      <th></th>\n",
       "      <th>Lag</th>\n",
       "      <th>Sec1_Pacf</th>\n",
       "      <th>Sec2_Pacf</th>\n",
       "      <th>Sec3_Pacf</th>\n",
       "      <th>Avg_Pacf</th>\n",
       "    </tr>\n",
       "  </thead>\n",
       "  <tbody>\n",
       "    <tr>\n",
       "      <th>0</th>\n",
       "      <td>1</td>\n",
       "      <td>0.64</td>\n",
       "      <td>0.77</td>\n",
       "      <td>0.77</td>\n",
       "      <td>0.726667</td>\n",
       "    </tr>\n",
       "    <tr>\n",
       "      <th>1</th>\n",
       "      <td>2</td>\n",
       "      <td>0.45</td>\n",
       "      <td>0.49</td>\n",
       "      <td>0.53</td>\n",
       "      <td>0.490000</td>\n",
       "    </tr>\n",
       "    <tr>\n",
       "      <th>2</th>\n",
       "      <td>3</td>\n",
       "      <td>0.38</td>\n",
       "      <td>0.40</td>\n",
       "      <td>0.39</td>\n",
       "      <td>0.390000</td>\n",
       "    </tr>\n",
       "    <tr>\n",
       "      <th>3</th>\n",
       "      <td>4</td>\n",
       "      <td>0.46</td>\n",
       "      <td>0.36</td>\n",
       "      <td>0.34</td>\n",
       "      <td>0.386667</td>\n",
       "    </tr>\n",
       "    <tr>\n",
       "      <th>4</th>\n",
       "      <td>5</td>\n",
       "      <td>0.30</td>\n",
       "      <td>0.34</td>\n",
       "      <td>0.39</td>\n",
       "      <td>0.343333</td>\n",
       "    </tr>\n",
       "  </tbody>\n",
       "</table>\n",
       "</div>"
      ],
      "text/plain": [
       "   Lag  Sec1_Pacf  Sec2_Pacf  Sec3_Pacf  Avg_Pacf\n",
       "0    1       0.64       0.77       0.77  0.726667\n",
       "1    2       0.45       0.49       0.53  0.490000\n",
       "2    3       0.38       0.40       0.39  0.390000\n",
       "3    4       0.46       0.36       0.34  0.386667\n",
       "4    5       0.30       0.34       0.39  0.343333"
      ]
     },
     "execution_count": 6,
     "metadata": {},
     "output_type": "execute_result"
    }
   ],
   "source": [
    "lag_df = vrf.pacf_calc(df)\n",
    "\n",
    "lag_df['Avg_Pacf'] = (lag_df['Sec1_Pacf'] + lag_df['Sec2_Pacf'] + lag_df['Sec3_Pacf'])/3\n",
    "\n",
    "max_lag = lag_df.loc[lag_df['Avg_Pacf'].idxmax(), 'Lag']\n",
    "\n",
    "print ('Lag ', max_lag, ' has the highest PACF')\n",
    "lag_df.head()"
   ]
  },
  {
   "cell_type": "code",
   "execution_count": 7,
   "metadata": {},
   "outputs": [],
   "source": [
    "df_var = vrf.var(df, max_lag) #VAR Regression Model\n",
    "\n",
    "dsp_df = df_var.loc[(df_var['Race'] == vw_race) & (df_var['Driver'] == dsp_drv) & (df_var['Date'].dt.year == 2024)].reset_index(drop = True)\n",
    "err_sec = dsp_df['Err_Drv_Spd'].mean()"
   ]
  },
  {
   "cell_type": "code",
   "execution_count": 8,
   "metadata": {},
   "outputs": [
    {
     "data": {
      "image/png": "[encoded data removed]",
      "text/plain": [
       "<Figure size 1200x600 with 1 Axes>"
      ]
     },
     "metadata": {},
     "output_type": "display_data"
    }
   ],
   "source": [
    "plt.figure(figsize=(12, 6))\n",
    "plt.bar(dsp_df['Lap_Num'], dsp_df['Err_Drv_Spd'], label = 'Real Speed', color = 'orangered')\n",
    "\n",
    "plt.xlabel('Lap')\n",
    "plt.ylabel('Error %')\n",
    "plt.title(dsp_drv + ' Lap Speed Error % (2024 ' + vw_race + ')')\n",
    "\n",
    "plt.axvline(x = 20, color='black', linestyle='-', linewidth = 1.2, label='Simulation Starts')\n",
    "plt.axhline(y = err_sec, color='black', linestyle='--', linewidth = 1, label = 'M.A.P.E')\n",
    "\n",
    "plt.text(x=0.5, y = err_sec + 0.1, s=f'M.A.P.E = {err_sec:.2f}', color='black', fontsize=9)\n",
    "\n",
    "plt.text(20.2, (dsp_df['Err_Drv_Spd'].min() - 0.5), 'Simulation Starts',\n",
    "         verticalalignment='center', horizontalalignment='left', color='green')\n",
    "\n",
    "\n",
    "plt.xlim(dsp_df['Lap_Num'].min(), dsp_df['Lap_Num'].max()+1)\n",
    "plt.ylim(min(dsp_df['Err_Drv_Spd'].min() - 1, -5), max(dsp_df['Err_Drv_Spd'].max() + 1, 5))\n",
    "\n",
    "plt.grid(True)"
   ]
  }
 ],
 "metadata": {
  "kernelspec": {
   "display_name": "base",
   "language": "python",
   "name": "python3"
  },
  "language_info": {
   "codemirror_mode": {
    "name": "ipython",
    "version": 3
   },
   "file_extension": ".py",
   "mimetype": "text/x-python",
   "name": "python",
   "nbconvert_exporter": "python",
   "pygments_lexer": "ipython3",
   "version": "3.12.7"
  }
 },
 "nbformat": 4,
 "nbformat_minor": 2
}
