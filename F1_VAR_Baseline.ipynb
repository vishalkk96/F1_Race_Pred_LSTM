{
 "cells": [
  {
   "cell_type": "code",
   "execution_count": null,
   "metadata": {},
   "outputs": [],
   "source": [
    "import numpy as np\n",
    "import pandas as pd\n",
    "\n",
    "from datetime import timedelta\n",
    "import matplotlib.pyplot as plt\n",
    "import os\n",
    "\n",
    "from Models import VAR_Funcs as vrf\n",
    "import warnings\n",
    "warnings.filterwarnings('ignore')\n",
    "pd.set_option('display.max_columns', None)"
   ]
  },
  {
   "cell_type": "code",
   "execution_count": null,
   "metadata": {},
   "outputs": [],
   "source": [
    "vw_race = 'United States Grand Prix'   # The race to be viewed\n",
    "dsp_drv = 'LEC' #Error Metrics for an arbitrarily chosen driver"
   ]
  },
  {
   "cell_type": "code",
   "execution_count": null,
   "metadata": {},
   "outputs": [],
   "source": [
    "data_df = pd.read_csv('Data/F1_Sector_Dataset.csv')\n",
    "\n",
    "df = vrf.read_data(data_df)\n",
    "\n",
    "# Race Speed/ Qual Speed\n",
    "\n",
    "df['Sec1_Norm'] = df['Race_Sec1_Spd']/df['Qual_Sec1_Spd']\n",
    "df['Sec2_Norm'] = df['Race_Sec2_Spd']/df['Qual_Sec2_Spd']\n",
    "df['Sec3_Norm'] = df['Race_Sec3_Spd']/df['Qual_Sec3_Spd']\n",
    "\n",
    "# First difference for Time Series Forecasting\n",
    "\n",
    "df['Sec1_Diff'] = df['Sec1_Norm'].diff()   \n",
    "df['Sec2_Diff'] = df['Sec2_Norm'].diff()\n",
    "df['Sec3_Diff'] = df['Sec3_Norm'].diff()"
   ]
  },
  {
   "cell_type": "code",
   "execution_count": null,
   "metadata": {},
   "outputs": [],
   "source": [
    "res_df = vrf.adf_data_eval(df)\n",
    "\n",
    "stt_tser = len(res_df.loc[res_df['p_value'] < 0.05])\n",
    "tot_tser = len(res_df)\n",
    "\n",
    "print (\"Out of \",tot_tser,\" time series \",stt_tser,\"time series are stationary\")"
   ]
  },
  {
   "cell_type": "code",
   "execution_count": null,
   "metadata": {},
   "outputs": [],
   "source": [
    "stn_df = res_df.loc[res_df['p_value'] < 0.05].groupby(['Date', 'Race', 'Driver']).agg({'Column' : 'nunique'}).reset_index()\n",
    "stn_df = stn_df.loc[stn_df['Column'] == 3].reset_index(drop = True)\n",
    "\n",
    "old_len = len(df)\n",
    "df = pd.merge(df, stn_df[['Date', 'Race', 'Driver']], how = 'inner')\n",
    "new_len = len(df)\n",
    "\n",
    "print(\"Only the laps where all 3 sectors are stationary are used going forward\")\n",
    "print(new_len, \" laps remain out of \", old_len, \" laps\")"
   ]
  },
  {
   "cell_type": "code",
   "execution_count": null,
   "metadata": {},
   "outputs": [],
   "source": [
    "lag_df = vrf.pacf_calc(df)\n",
    "\n",
    "lag_df['Avg_Pacf'] = (lag_df['Sec1_Pacf'] + lag_df['Sec2_Pacf'] + lag_df['Sec3_Pacf'])/3\n",
    "\n",
    "max_lag = lag_df.loc[lag_df['Avg_Pacf'].idxmax(), 'Lag']\n",
    "\n",
    "print ('Lag ', max_lag, ' has the highest PACF')\n",
    "lag_df.head()"
   ]
  },
  {
   "cell_type": "code",
   "execution_count": null,
   "metadata": {},
   "outputs": [],
   "source": [
    "df_var = vrf.var(df, max_lag) #VAR Regression Model\n",
    "\n",
    "dsp_df = df_var.loc[(df_var['Race'] == vw_race) & (df_var['Driver'] == dsp_drv) & (df_var['Date'].dt.year == 2024)].reset_index(drop = True)\n",
    "err_sec = dsp_df['Err_Drv_Spd'].mean()"
   ]
  },
  {
   "cell_type": "code",
   "execution_count": null,
   "metadata": {},
   "outputs": [],
   "source": [
    "plt.figure(figsize=(12, 6))\n",
    "plt.bar(dsp_df['Lap_Num'], dsp_df['Err_Drv_Spd'], label = 'Real Speed', color = 'orangered')\n",
    "\n",
    "plt.xlabel('Lap')\n",
    "plt.ylabel('Error %')\n",
    "plt.title(dsp_drv + ' Lap Speed Error % (2024 ' + vw_race + ')')\n",
    "\n",
    "plt.axvline(x = 20, color='black', linestyle='-', linewidth = 1.2, label='Simulation Starts')\n",
    "plt.axhline(y = err_sec, color='black', linestyle='--', linewidth = 1, label = 'M.A.P.E')\n",
    "\n",
    "plt.text(x=0.5, y = err_sec + 0.1, s=f'M.A.P.E = {err_sec:.2f}', color='black', fontsize=9)\n",
    "\n",
    "plt.text(20.2, (dsp_df['Err_Drv_Spd'].min() - 0.5), 'Simulation Starts',\n",
    "         verticalalignment='center', horizontalalignment='left', color='green')\n",
    "\n",
    "\n",
    "plt.xlim(dsp_df['Lap_Num'].min(), dsp_df['Lap_Num'].max()+1)\n",
    "plt.ylim(min(dsp_df['Err_Drv_Spd'].min() - 1, -5), max(dsp_df['Err_Drv_Spd'].max() + 1, 5))\n",
    "\n",
    "plt.grid(True)"
   ]
  }
 ],
 "metadata": {
  "kernelspec": {
   "display_name": "base",
   "language": "python",
   "name": "python3"
  },
  "language_info": {
   "codemirror_mode": {
    "name": "ipython",
    "version": 3
   },
   "file_extension": ".py",
   "mimetype": "text/x-python",
   "name": "python",
   "nbconvert_exporter": "python",
   "pygments_lexer": "ipython3",
   "version": "3.12.7"
  }
 },
 "nbformat": 4,
 "nbformat_minor": 2
}
