{
 "cells": [
  {
   "cell_type": "code",
   "execution_count": null,
   "metadata": {
    "colab": {
     "base_uri": "https://localhost:8080/"
    },
    "executionInfo": {
     "elapsed": 5214,
     "status": "ok",
     "timestamp": 1729665041024,
     "user": {
      "displayName": "Vishal Kamalakannan",
      "userId": "10435963017110227070"
     },
     "user_tz": 240
    },
    "id": "wCBlc1TDm5CC",
    "outputId": "e562d1df-ac37-475b-d534-9d8383c795bd"
   },
   "outputs": [],
   "source": [
    "import numpy as np\n",
    "import pandas as pd\n",
    "from datetime import timedelta\n",
    "import matplotlib.pyplot as plt\n",
    "import os\n",
    "\n",
    "import torch\n",
    "import torch.nn as nn\n",
    "from torch.utils.data import Dataset, DataLoader, TensorDataset, random_split\n",
    "\n",
    "import matplotlib.pyplot as plt\n",
    "from matplotlib.path import Path\n",
    "import matplotlib.patches as patches\n",
    "from scipy.stats import pearsonr\n",
    "\n",
    "from Models import Lap_Sim_Funcs as lsf\n",
    "import warnings\n",
    "warnings.filterwarnings('ignore')\n",
    "pd.set_option('display.max_columns', None)"
   ]
  },
  {
   "cell_type": "markdown",
   "metadata": {},
   "source": [
    "List of F1 Races from the testing period (post Apr 2024)\n",
    "\n",
    "'Miami Grand Prix', 'Emilia Romagna Grand Prix', 'Monaco Grand Prix', 'Canadian Grand Prix', 'Spanish Grand Prix',\n",
    "\n",
    "'Austrian Grand Prix', 'British Grand Prix', 'Hungarian Grand Prix', 'Belgian Grand Prix', 'Dutch Grand Prix',\n",
    "\n",
    "'Italian Grand Prix', 'Azerbaijan Grand Prix', 'Singapore Grand Prix', 'United States Grand Prix', 'Mexico City Grand Prix',\n",
    "\n",
    "'Sao Paulo Grand Prix', 'Las Vegas Grand Prix', 'Qatar Grand Prix', 'Abu Dhabi Grand Prix'"
   ]
  },
  {
   "cell_type": "markdown",
   "metadata": {},
   "source": [
    "List of Drivers from the testing period (post May 2024)\n",
    "\n",
    "'ALB', 'ALO', 'BOT', 'GAS', 'HAM', 'HUL', 'LEC', 'MAG', 'NOR', 'OCO', 'PER', 'PIA', 'RIC', 'RUS', 'SAI', 'SAR', 'STR', 'TSU', 'VER', 'ZHO', 'COL', 'BEA', 'LAW'"
   ]
  },
  {
   "cell_type": "markdown",
   "metadata": {},
   "source": [
    "Modify the inputs in the following cell as per the available data in the testing period"
   ]
  },
  {
   "cell_type": "code",
   "execution_count": null,
   "metadata": {},
   "outputs": [],
   "source": [
    "#Input Cell\n",
    "\n",
    "df = pd.read_csv('Data/F1_Sector_Dataset.csv')\n",
    "\n",
    "race, qual, drql, drvr = lsf.preprocess_spd_model(df)\n",
    "\n",
    "test_df = race.loc[race['Date'] >= '2024-05-01'].copy().reset_index(drop = True)\n",
    "\n",
    "vw_race = 'United States Grand Prix'   # The race to be viewed\n",
    "drv_lst = ['VER', 'NOR', 'LEC', 'PIA'] # Driver performances to be viewed (Recommended to have 4 or fewer)\n",
    "\n",
    "nlaps = 20 #Laps after nlaps are simulated (Default: 20)"
   ]
  },
  {
   "cell_type": "code",
   "execution_count": null,
   "metadata": {},
   "outputs": [],
   "source": [
    "# Stage 1 LSTM Model Definition\n",
    "class LSTMModel(nn.Module):\n",
    "    def __init__(self, input_size, hidden_size, num_layers, output_size):\n",
    "        super(LSTMModel, self).__init__()\n",
    "        self.hidden_size = hidden_size\n",
    "        self.num_layers = num_layers\n",
    "        self.lstm = nn.LSTM(input_size, hidden_size, num_layers, batch_first=True)\n",
    "        self.fc = nn.Linear(hidden_size, output_size)\n",
    "\n",
    "    def forward(self, x):\n",
    "        h0 = torch.zeros(self.num_layers, x.size(0), self.hidden_size).to(x.device)\n",
    "        c0 = torch.zeros(self.num_layers, x.size(0), self.hidden_size).to(x.device)\n",
    "        out, _ = self.lstm(x, (h0, c0))\n",
    "        out = self.fc(out[:, -1, :])\n",
    "        return out\n",
    "\n",
    "# Parameters\n",
    "input_size = 16 \n",
    "hidden_size = 32\n",
    "num_layers = 3\n",
    "output_size = 3 \n",
    "\n",
    "spd_model = LSTMModel(input_size, hidden_size, num_layers, output_size)\n",
    "\n",
    "# Stage 2 LSTM Model Definition\n",
    "class LSTMModel(nn.Module):\n",
    "    def __init__(self, input_size, hidden_size, num_layers, output_size):\n",
    "        super(LSTMModel, self).__init__()\n",
    "        self.hidden_size = hidden_size\n",
    "        self.num_layers = num_layers\n",
    "        self.lstm = nn.LSTM(input_size, hidden_size, num_layers, batch_first=True)\n",
    "        self.fc = nn.Linear(hidden_size, output_size)\n",
    "\n",
    "    def forward(self, x):\n",
    "        h0 = torch.zeros(self.num_layers, x.size(0), self.hidden_size).to(x.device)\n",
    "        c0 = torch.zeros(self.num_layers, x.size(0), self.hidden_size).to(x.device)\n",
    "        out, _ = self.lstm(x, (h0, c0))\n",
    "        out = self.fc(out[:, -1, :])\n",
    "        return out\n",
    "\n",
    "# Parameters\n",
    "input_size = 23 \n",
    "hidden_size = 32\n",
    "num_layers = 3\n",
    "output_size = 3\n",
    "\n",
    "pos_model = LSTMModel(input_size, hidden_size, num_layers, output_size)"
   ]
  },
  {
   "cell_type": "code",
   "execution_count": null,
   "metadata": {},
   "outputs": [],
   "source": [
    "tab = lsf.process_laps('Models/mean_lstm_32_3.pth', spd_model, test_df, qual, nlaps) #Stage 1 LSTM Execution"
   ]
  },
  {
   "cell_type": "code",
   "execution_count": null,
   "metadata": {
    "colab": {
     "base_uri": "https://localhost:8080/",
     "height": 564
    },
    "executionInfo": {
     "elapsed": 697,
     "status": "ok",
     "timestamp": 1729665069046,
     "user": {
      "displayName": "Vishal Kamalakannan",
      "userId": "10435963017110227070"
     },
     "user_tz": 240
    },
    "id": "aIO7ANpPYXVP",
    "outputId": "8d6fc323-14ba-4626-cf03-3dd36dea83c6"
   },
   "outputs": [],
   "source": [
    "# Stage 1 Metrics Visualization\n",
    "\n",
    "spd_dsp = tab.loc[tab['Race'] == vw_race].reset_index(drop = True)\n",
    "mean_val = spd_dsp['Err_Lap_Spd'].mean()\n",
    "\n",
    "plt.figure(figsize=(12, 6))\n",
    "plt.plot(spd_dsp['Lap'], spd_dsp['Real_Spd'], label='Real Mean Lap Speed', linestyle='-', marker = '.')\n",
    "plt.plot(spd_dsp['Lap'], spd_dsp['Calc_Spd'], label='Calc Mean Lap Speed', linestyle='--', marker = '.')\n",
    "plt.xlabel('Lap')\n",
    "plt.ylabel('Speed')\n",
    "plt.title('Stage 1 LSTM')\n",
    "\n",
    "plt.axvline(x=nlaps, color='black', linestyle='-', linewidth = 1.2, label='Simulation Starts')\n",
    "plt.text(nlaps + 0.2, max(spd_dsp['Real_Spd'].min(), spd_dsp['Calc_Spd'].min()), 'Simulation Starts',\n",
    "         verticalalignment='center', horizontalalignment='left', color='green')\n",
    "\n",
    "plt.xlim(spd_dsp['Lap'].min() - 1, spd_dsp['Lap'].max() + 1)\n",
    "\n",
    "plt.legend()\n",
    "plt.grid(True)\n",
    "\n",
    "\n",
    "\n",
    "plt.show()\n"
   ]
  },
  {
   "cell_type": "code",
   "execution_count": null,
   "metadata": {},
   "outputs": [],
   "source": [
    "# Stage 1 Error Visualization\n",
    "\n",
    "plt.figure(figsize=(12, 6))\n",
    "plt.bar(spd_dsp['Lap'], spd_dsp['Err_Lap_Spd'], label = 'Real Speed', color = 'orangered')\n",
    "\n",
    "\n",
    "plt.xlabel('Lap')\n",
    "plt.ylabel('Error %')\n",
    "plt.title('Stage 1 LSTM Errors')\n",
    "\n",
    "plt.axvline(x=nlaps, color='black', linestyle='-', linewidth = 1.2, label='Simulation Starts')\n",
    "plt.axhline(y = mean_val, color='black', linestyle='--', linewidth = 1, label = 'M.A.P.E')\n",
    "\n",
    "plt.text(x=0.5, y = mean_val + 0.1, s=f'M.A.P.E = {mean_val:.2f}', color='black', fontsize=9)\n",
    "\n",
    "plt.text(nlaps + 0.2, (spd_dsp['Err_Lap_Spd'].min() - 0.5), 'Simulation Starts',\n",
    "         verticalalignment='center', horizontalalignment='left', color='green')\n",
    "\n",
    "\n",
    "plt.xlim(spd_dsp['Lap'].min(), spd_dsp['Lap'].max()+1)\n",
    "plt.ylim(min(spd_dsp['Err_Lap_Spd'].min() - 1, -5), max(spd_dsp['Err_Lap_Spd'].max() + 1, 5))\n",
    "\n",
    "#plt.legend()\n",
    "plt.grid(True)"
   ]
  },
  {
   "cell_type": "code",
   "execution_count": null,
   "metadata": {},
   "outputs": [],
   "source": [
    "drv_race = lsf.preprocess_pos_model(tab, race, qual, drql, drvr)\n",
    "\n",
    "test_df = drv_race.loc[drv_race['Date'] >= '2024-05-01'].copy().reset_index(drop = True)\n",
    "\n",
    "prg = lsf.driver_laps('Models/pos_lstm_32_3.pth', pos_model, test_df, nlaps) #Stage 2 LSTM Execution"
   ]
  },
  {
   "cell_type": "code",
   "execution_count": null,
   "metadata": {
    "colab": {
     "base_uri": "https://localhost:8080/",
     "height": 833
    },
    "executionInfo": {
     "elapsed": 183324,
     "status": "ok",
     "timestamp": 1729665252698,
     "user": {
      "displayName": "Vishal Kamalakannan",
      "userId": "10435963017110227070"
     },
     "user_tz": 240
    },
    "id": "lhQexVap8K4N",
    "outputId": "dc03b86d-dd85-4702-d06e-4831f4d73c8f"
   },
   "outputs": [],
   "source": [
    "\n",
    "pos_dsp = prg.loc[(prg['Race'] == vw_race) & (prg['Driver'].isin(drv_lst))].reset_index(drop = True)\n",
    "\n",
    "dsp_drvr = 'VER' #Error Metrics for an arbitrarily chosen driver\n",
    "\n",
    "drv_dsp = prg.loc[(prg['Race'] == vw_race) & (prg['Driver'] == dsp_drvr)].reset_index(drop = True) \n",
    "\n",
    "err_sec = drv_dsp['Err_Drv_Spd'].mean()\n",
    "err_pos = drv_dsp['Err_Position'].mean()\n"
   ]
  },
  {
   "cell_type": "code",
   "execution_count": null,
   "metadata": {
    "colab": {
     "base_uri": "https://localhost:8080/",
     "height": 564
    },
    "executionInfo": {
     "elapsed": 1059,
     "status": "ok",
     "timestamp": 1729665253743,
     "user": {
      "displayName": "Vishal Kamalakannan",
      "userId": "10435963017110227070"
     },
     "user_tz": 240
    },
    "id": "vwU_z_wFILZC",
    "outputId": "43e8ed1a-614c-44b2-dcf9-b67ba9b824f3"
   },
   "outputs": [],
   "source": [
    "# Stage 2 Metrics(Speed) Visualization\n",
    "\n",
    "drivers = pos_dsp['Driver'].unique()\n",
    "colors = plt.cm.jet(np.linspace(0, 1, len(drivers)))  # Using a colormap for color assignment\n",
    "\n",
    "plt.figure(figsize=(16, 6))\n",
    "\n",
    "for driver, color in zip(drivers, colors):\n",
    "    \n",
    "    driver_data = pos_dsp[pos_dsp['Driver'] == driver]\n",
    "\n",
    "    plt.plot(driver_data['Lap'], driver_data['Drv_Real_Spd'], label=f'{driver} Real_Spd', marker='x', color=color)\n",
    "\n",
    "plt.title('Driver Real Speed')\n",
    "plt.xlabel('Lap')\n",
    "plt.ylabel('Real Speed')\n",
    "plt.legend()\n",
    "plt.grid(True)\n",
    "plt.show()\n",
    "\n",
    "plt.figure(figsize=(16, 6))\n",
    "\n",
    "for driver, color in zip(drivers, colors):\n",
    "    \n",
    "    driver_data = pos_dsp[pos_dsp['Driver'] == driver]\n",
    "\n",
    "    plt.plot(driver_data['Lap'], driver_data['Drv_Calc_Spd'], label=f'{driver} Calc_Spd', marker='.', linestyle='--', color=color)\n",
    "\n",
    "plt.axvline(x=nlaps, color='black', linestyle='-', linewidth = 1.2, label='Simulation Starts')\n",
    "plt.text(nlaps + 0.2, max(spd_dsp['Real_Spd'].min(), spd_dsp['Calc_Spd'].min()), 'Simulation Starts',\n",
    "         verticalalignment='center', horizontalalignment='left', color='green')\n",
    "\n",
    "plt.xlim(spd_dsp['Lap'].min() - 1, spd_dsp['Lap'].max() + 1)\n",
    "\n",
    "plt.title('Driver Pred Speed')\n",
    "plt.xlabel('Lap')\n",
    "plt.ylabel('Pred Speed')\n",
    "plt.legend()\n",
    "plt.grid(True)\n",
    "plt.show()\n"
   ]
  },
  {
   "cell_type": "code",
   "execution_count": null,
   "metadata": {},
   "outputs": [],
   "source": [
    "# Stage 2 Errors(Speed) Visualization\n",
    "\n",
    "plt.figure(figsize=(12, 6))\n",
    "plt.bar(drv_dsp['Lap'], drv_dsp['Err_Drv_Spd'], label = 'Real Speed', color = 'orangered')\n",
    "\n",
    "\n",
    "plt.xlabel('Lap')\n",
    "plt.ylabel('Error %')\n",
    "plt.title(dsp_drvr + ' Lap Speed Error %')\n",
    "\n",
    "plt.axvline(x=nlaps, color='black', linestyle='-', linewidth = 1.2, label='Simulation Starts')\n",
    "plt.axhline(y = err_sec, color='black', linestyle='--', linewidth = 1, label = 'M.A.P.E')\n",
    "\n",
    "plt.text(x=0.5, y = err_sec + 0.1, s=f'M.A.P.E = {err_sec:.2f}', color='black', fontsize=9)\n",
    "\n",
    "plt.text(nlaps + 0.2, (drv_dsp['Err_Drv_Spd'].min() - 0.5), 'Simulation Starts',\n",
    "         verticalalignment='center', horizontalalignment='left', color='green')\n",
    "\n",
    "\n",
    "plt.xlim(drv_dsp['Lap'].min(), drv_dsp['Lap'].max()+1)\n",
    "plt.ylim(min(drv_dsp['Err_Drv_Spd'].min() - 1, -5), max(drv_dsp['Err_Drv_Spd'].max() + 1, 5))\n",
    "\n",
    "plt.grid(True)"
   ]
  },
  {
   "cell_type": "code",
   "execution_count": null,
   "metadata": {
    "colab": {
     "base_uri": "https://localhost:8080/",
     "height": 564
    },
    "executionInfo": {
     "elapsed": 1568,
     "status": "ok",
     "timestamp": 1729665316867,
     "user": {
      "displayName": "Vishal Kamalakannan",
      "userId": "10435963017110227070"
     },
     "user_tz": 240
    },
    "id": "_BF7-cnmrSfd",
    "outputId": "eb032c54-ce5b-4dff-f767-ff3f4bd2812c"
   },
   "outputs": [],
   "source": [
    "# Stage 2 Metrics(Position) Visualization\n",
    "\n",
    "drivers = pos_dsp['Driver'].unique()\n",
    "colors = plt.cm.jet(np.linspace(0, 1, len(drivers)))\n",
    "\n",
    "plt.figure(figsize=(16, 6))\n",
    "\n",
    "for driver, color in zip(drivers, colors):\n",
    "    \n",
    "    driver_data = pos_dsp[pos_dsp['Driver'] == driver]\n",
    "\n",
    "    plt.plot(driver_data['Lap'], driver_data['Position_T'], label=f'{driver} True_Pos', marker='x', color=color)\n",
    "\n",
    "plt.title('Driver Real Position')\n",
    "plt.xlabel('Lap')\n",
    "plt.ylabel('Position (Z-Score)')\n",
    "plt.legend()\n",
    "plt.grid()\n",
    "plt.show()\n",
    "\n",
    "plt.figure(figsize=(16, 6))\n",
    "\n",
    "for driver, color in zip(drivers, colors):\n",
    "\n",
    "    driver_data = pos_dsp[pos_dsp['Driver'] == driver]\n",
    "\n",
    "    plt.plot(driver_data['Lap'], driver_data['Position_P'], label=f'{driver} Calc_Pos', marker='.', linestyle='--', color=color)\n",
    "\n",
    "plt.axvline(x=nlaps, color='black', linestyle='-', linewidth = 1.2, label='Simulation Starts')\n",
    "plt.text(nlaps + 0.2, pos_dsp['Position_P'].min(), 'Simulation Starts',\n",
    "         verticalalignment='center', horizontalalignment='left', color='green')\n",
    "\n",
    "plt.xlim(pos_dsp['Lap'].min() - 1, pos_dsp['Lap'].max() + 1)\n",
    "plt.title('Driver Pred Position')\n",
    "plt.xlabel('Lap')\n",
    "plt.ylabel('Position (Z-Score)')\n",
    "plt.legend()\n",
    "plt.grid()\n",
    "plt.show()"
   ]
  },
  {
   "cell_type": "code",
   "execution_count": null,
   "metadata": {},
   "outputs": [],
   "source": [
    "# Stage 2 Errors(Position) Visualization\n",
    "\n",
    "plt.figure(figsize=(12, 6))\n",
    "plt.bar(drv_dsp['Lap'], drv_dsp['Err_Position'], label = 'Position Error', color = 'orangered')\n",
    "\n",
    "\n",
    "plt.xlabel('Lap')\n",
    "plt.ylabel('Error (Z-Score)')\n",
    "plt.title(dsp_drvr + ' Position Error (Z-Score)')\n",
    "\n",
    "plt.axvline(x=nlaps, color='black', linestyle='-', linewidth = 1.2, label='Simulation Starts')\n",
    "plt.axhline(y = err_pos, color='black', linestyle='--', linewidth = 1, label = 'M.A.E')\n",
    "\n",
    "plt.text(x=0.5, y = err_pos + 0.1, s=f'M.A.E = {err_pos:.2f}', color='black', fontsize=9)\n",
    "\n",
    "plt.text(nlaps + 0.2, (drv_dsp['Err_Position'].min() - 0.5), 'Simulation Starts',\n",
    "         verticalalignment='center', horizontalalignment='left', color='green')\n",
    "\n",
    "\n",
    "plt.xlim(drv_dsp['Lap'].min(), drv_dsp['Lap'].max()+1)\n",
    "plt.ylim(min(drv_dsp['Err_Position'].min() - 1, -5), max(drv_dsp['Err_Position'].max() + 1, 5))\n",
    "\n",
    "plt.grid(True)"
   ]
  },
  {
   "cell_type": "code",
   "execution_count": null,
   "metadata": {},
   "outputs": [],
   "source": [
    "std = lsf.rank_drivers(prg) # Post Race Standing Inference\n",
    "rce_std = std.loc[std['Race'] == vw_race].reset_index(drop = True)"
   ]
  },
  {
   "cell_type": "code",
   "execution_count": null,
   "metadata": {},
   "outputs": [],
   "source": [
    "# Race Predicted v/s Actual Standings\n",
    "\n",
    "fig, ax = plt.subplots(figsize=(6, 8))\n",
    "ax.axis('off')\n",
    "\n",
    "x_left = 0.1\n",
    "x_right = 0.9\n",
    "n_drivers = len(rce_std)\n",
    "\n",
    "df_left = rce_std.sort_values(by = ['Standing_P'], ascending = False).reset_index(drop=True)\n",
    "df_left['y_left'] = np.linspace(0, 1, n_drivers)\n",
    "df_right = rce_std.sort_values(by = ['Standing_T'], ascending = False).reset_index(drop=True)\n",
    "df_right['y_right'] = np.linspace(0, 1, n_drivers)\n",
    "\n",
    "driver_positions = {}\n",
    "for idx, row in rce_std.iterrows():\n",
    "    driver = row['Driver']\n",
    "    y_left = df_left[df_left['Driver'] == driver]['y_left'].values[0]\n",
    "    y_right = df_right[df_right['Driver'] == driver]['y_right'].values[0]\n",
    "    driver_positions[driver] = {'y_left': y_left, 'y_right': y_right}\n",
    "\n",
    "for driver, pos in driver_positions.items():\n",
    "    y_left = pos['y_left']\n",
    "    y_right = pos['y_right']\n",
    "    \n",
    "    ax.text(x_left - 0.05, y_left, driver, ha='right', va='center')\n",
    "    ax.text(x_right + 0.05, y_right, driver, ha='left', va='center')\n",
    "\n",
    "    verts = [\n",
    "        (x_left, y_left),\n",
    "        ((x_left + x_right) / 2, y_left),\n",
    "        ((x_left + x_right) / 2, y_right),\n",
    "        (x_right, y_right),\n",
    "    ]\n",
    "    codes = [Path.MOVETO,\n",
    "             Path.CURVE4,\n",
    "             Path.CURVE4,\n",
    "             Path.CURVE4,\n",
    "             ]\n",
    "    path = Path(verts, codes)\n",
    "    patch = patches.PathPatch(path, facecolor='none', lw=1, edgecolor='gray', alpha=0.5)\n",
    "    ax.add_patch(patch)\n",
    "\n",
    "ax.text(x_left - 0.05, 1.05, 'Pred Standings', ha='right', va='bottom', fontsize=12, fontweight='bold')\n",
    "ax.text(x_right + 0.05, 1.05, 'True Standings', ha='left', va='bottom', fontsize=12, fontweight='bold')\n",
    "\n",
    "plt.show()"
   ]
  },
  {
   "cell_type": "code",
   "execution_count": null,
   "metadata": {},
   "outputs": [],
   "source": [
    "# Post Race Correlation\n",
    "\n",
    "dsp_rce = rce_std.loc[rce_std['Race'] == vw_race].reset_index(drop = True)\n",
    "\n",
    "x = dsp_rce['Standing_T']\n",
    "y = dsp_rce['Standing_P']\n",
    "\n",
    "corr_coef, _ = pearsonr(x, y)\n",
    "\n",
    "plt.figure(figsize=(10, 5))\n",
    "plt.scatter(x, y, color='blue', label='Data Points')\n",
    "\n",
    "slope, intercept = np.polyfit(x, y, 1)\n",
    "\n",
    "x_line = np.linspace(0, 21, 100) \n",
    "y_line = slope * x_line + intercept\n",
    "\n",
    "plt.plot(x_line, y_line, color='black', linestyle='--', label='Regression Line')\n",
    "\n",
    "plt.xlabel('True Standing')\n",
    "plt.ylabel('Pred Standing')\n",
    "plt.title('Predicted Race Outcome')\n",
    "\n",
    "x_text = 1\n",
    "y_text = 20\n",
    "plt.text(x_text, y_text, f\"Correlation = {corr_coef:.2f}\", fontsize=12, color='black')\n",
    "\n",
    "plt.xlim(0, 21)\n",
    "plt.ylim(0, 21)\n",
    "plt.xticks(range(0, 22))\n",
    "plt.yticks(range(0, 22))\n",
    "plt.grid()\n",
    "plt.show()"
   ]
  }
 ],
 "metadata": {
  "colab": {
   "authorship_tag": "ABX9TyO91Lz4GUp27L0wjc/v24fl",
   "machine_shape": "hm",
   "provenance": [
    {
     "file_id": "1VRyld4M5PvO2TVq8FU-W5avNMmry5YsL",
     "timestamp": 1728465369951
    }
   ]
  },
  "kernelspec": {
   "display_name": "test_env",
   "language": "python",
   "name": "python3"
  },
  "language_info": {
   "codemirror_mode": {
    "name": "ipython",
    "version": 3
   },
   "file_extension": ".py",
   "mimetype": "text/x-python",
   "name": "python",
   "nbconvert_exporter": "python",
   "pygments_lexer": "ipython3",
   "version": "3.11.11"
  }
 },
 "nbformat": 4,
 "nbformat_minor": 0
}
